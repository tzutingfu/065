{
  "cells": [
    {
      "cell_type": "markdown",
      "metadata": {
        "id": "view-in-github",
        "colab_type": "text"
      },
      "source": [
        "<a href=\"https://colab.research.google.com/github/tzutingfu/MachineLearning/blob/main/%E6%9C%9F%E4%B8%AD%E5%A0%B1%E5%91%8A/%E9%9A%A8%E6%A9%9F%E6%A3%AE%E6%9E%97-iris.ipynb\" target=\"_parent\"><img src=\"https://colab.research.google.com/assets/colab-badge.svg\" alt=\"Open In Colab\"/></a>"
      ]
    },
    {
      "cell_type": "code",
      "execution_count": 31,
      "metadata": {
        "id": "zwFnJsE6vjf8",
        "colab": {
          "base_uri": "https://localhost:8080/"
        },
        "outputId": "24a9a7d9-2fb5-497b-9f48-a461d5f3fe5a"
      },
      "outputs": [
        {
          "output_type": "stream",
          "name": "stdout",
          "text": [
            "訓練資料正確率: 0.9904761904761905\n",
            "測試資料正確率: 1.0\n",
            "標準答案: [0 0 2 0 1 2 2 0 2 0 0 1 1 0 0 1 0 0 2 2 1 0 0 2 2 2 1 2 2 0 1 2 0 1 2 2 1\n",
            " 2 0 1 0 0 1 2 2]\n",
            "預測答案: [0 0 2 0 1 2 2 0 2 0 0 1 1 0 0 1 0 0 2 2 1 0 0 2 2 2 1 2 2 0 1 2 0 1 2 2 1\n",
            " 2 0 1 0 0 1 2 2]\n"
          ]
        }
      ],
      "source": [
        "from sklearn.ensemble import RandomForestClassifier\n",
        "from sklearn.datasets import load_iris\n",
        "from sklearn.model_selection import train_test_split\n",
        "\n",
        "# 讀入鳶尾花資料\n",
        "iris = load_iris()\n",
        "iris_data = iris.data\n",
        "iris_label = iris.target\n",
        "\n",
        "# 切分訓練與測試資料\n",
        "train_data, test_data, train_label, test_label = train_test_split(iris_data, iris_label, test_size = 0.3)\n",
        "\n",
        "# 建立分類器\n",
        "clf = RandomForestClassifier(n_estimators=30, max_depth=4)\n",
        "iris_clf = clf.fit(train_data, train_label)\n",
        "print(\"訓練資料正確率:\",clf.score(train_data,train_label)) # 訓練資料正確率\n",
        "print(\"測試資料正確率:\",clf.score(test_data, test_label)) # 測試資料正確率\n",
        "\n",
        "predict=clf.predict(test_data) # 預測\n",
        "print(\"標準答案:\",test_label) # 標準答案\n",
        "print(\"預測答案:\",predict) # 預測答案"
      ]
    }
  ],
  "metadata": {
    "colab": {
      "name": "歡迎使用 Colaboratory",
      "toc_visible": true,
      "provenance": [],
      "include_colab_link": true
    },
    "kernelspec": {
      "display_name": "Python 3",
      "name": "python3"
    }
  },
  "nbformat": 4,
  "nbformat_minor": 0
}